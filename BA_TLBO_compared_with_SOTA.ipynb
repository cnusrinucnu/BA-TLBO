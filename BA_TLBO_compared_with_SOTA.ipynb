{
  "cells": [
    {
      "cell_type": "code",
      "execution_count": null,
      "metadata": {
        "id": "7YgtGrP96Ws9"
      },
      "outputs": [],
      "source": [
        "import numpy as np\n",
        "import random\n",
        "from datetime import datetime"
      ]
    },
    {
      "cell_type": "code",
      "execution_count": null,
      "metadata": {
        "colab": {
          "base_uri": "https://localhost:8080/"
        },
        "id": "JVPgGvyn6ace",
        "outputId": "ffe1c11d-9c3c-450b-ad4f-04bf8e55c66f"
      },
      "outputs": [
        {
          "name": "stderr",
          "output_type": "stream",
          "text": [
            "C:\\Users\\NIT\\AppData\\Local\\Temp\\ipykernel_17472\\348536078.py:19: DeprecationWarning: Please use `pearsonr` from the `scipy.stats` namespace, the `scipy.stats.stats` namespace is deprecated.\n",
            "  from scipy.stats.stats import pearsonr\n"
          ]
        }
      ],
      "source": [
        "import pandas as pd\n",
        "from sklearn.linear_model import RidgeClassifier\n",
        "from sklearn.model_selection import train_test_split\n",
        "from sklearn.preprocessing import StandardScaler\n",
        "import numpy as np\n",
        "from sklearn.model_selection import StratifiedKFold\n",
        "from sklearn.model_selection import cross_val_score\n",
        "from sklearn.metrics import confusion_matrix, accuracy_score\n",
        "from sklearn.linear_model import LogisticRegression\n",
        "from sklearn.neighbors import KNeighborsClassifier\n",
        "from sklearn.tree import DecisionTreeClassifier\n",
        "from sklearn.svm import SVC\n",
        "from sklearn.naive_bayes import GaussianNB\n",
        "from sklearn.ensemble import RandomForestClassifier\n",
        "from sklearn.ensemble import BaggingClassifier\n",
        "from sklearn.ensemble import GradientBoostingClassifier\n",
        "#from xgboost import XGBClassifier\n",
        "from sklearn.linear_model import SGDClassifier\n",
        "from scipy.stats.stats import pearsonr\n",
        "import matplotlib.pyplot as mp\n",
        "import seaborn as sb\n",
        "from sklearn.ensemble import VotingClassifier\n",
        "from sklearn.preprocessing import  LabelEncoder"
      ]
    },
    {
      "cell_type": "code",
      "execution_count": null,
      "metadata": {
        "id": "MLZuILsX6asH"
      },
      "outputs": [],
      "source": [
        "from sklearn.metrics import f1_score\n",
        "from sklearn.metrics import precision_score\n",
        "from sklearn.metrics import recall_score\n",
        "from sklearn.metrics import confusion_matrix\n",
        "from sklearn.metrics import classification_report\n",
        "from sklearn.metrics import roc_curve\n",
        "from sklearn.metrics import roc_auc_score"
      ]
    },
    {
      "cell_type": "code",
      "execution_count": null,
      "metadata": {
        "id": "_x6BzKdz6auq"
      },
      "outputs": [],
      "source": [
        "from sklearn.model_selection import KFold\n",
        "from sklearn import svm\n",
        "from sklearn.svm import SVC\n",
        "from sklearn.model_selection import cross_val_score"
      ]
    },
    {
      "cell_type": "code",
      "execution_count": null,
      "metadata": {
        "id": "uURYWFyB6az6"
      },
      "outputs": [],
      "source": [
        "import random\n",
        "import math # cos() for Rastrigin\n",
        "import copy # array-copying convenience\n",
        "import sys\t # max float"
      ]
    },
    {
      "cell_type": "raw",
      "metadata": {
        "id": "iU3tMfFc4Eue",
        "outputId": "aafc4c5b-377c-4ae3-b111-17c9dfd66c99"
      },
      "source": [
        "from google.colab import drive\n",
        "drive.mount('/content/drive')"
      ]
    },
    {
      "cell_type": "raw",
      "metadata": {
        "id": "Ys1YJ83C4SfR"
      },
      "source": [
        "\n",
        "df_ = pd.read_csv(\"/content/drive/MyDrive/Colab Notebooks/dataset_research/diabetes.csv\")\n",
        "data = df_.copy()"
      ]
    },
    {
      "cell_type": "code",
      "execution_count": null,
      "metadata": {
        "id": "QxxY2U99KlwP"
      },
      "outputs": [],
      "source": [
        "df_ = pd.read_csv(\"diabetes.csv\")\n",
        "data = df_.copy()"
      ]
    },
    {
      "cell_type": "code",
      "execution_count": null,
      "metadata": {
        "colab": {
          "base_uri": "https://localhost:8080/"
        },
        "id": "b1aim_8ATlQL",
        "outputId": "c96e13c5-eac8-43a7-96fb-3fa0f4492e7c"
      },
      "outputs": [
        {
          "data": {
            "text/plain": [
              "(768, 9)"
            ]
          },
          "execution_count": 54,
          "metadata": {},
          "output_type": "execute_result"
        }
      ],
      "source": [
        "data.shape"
      ]
    },
    {
      "cell_type": "code",
      "execution_count": null,
      "metadata": {
        "id": "EsqHq0ke609y"
      },
      "outputs": [],
      "source": [
        "data[['Glucose','BloodPressure','SkinThickness','Insulin','BMI']] = data[['Glucose','BloodPressure','SkinThickness','Insulin','BMI']].replace(0,np.NaN)"
      ]
    },
    {
      "cell_type": "code",
      "execution_count": null,
      "metadata": {
        "id": "JBkdkVua61Al"
      },
      "outputs": [],
      "source": [
        "def median_target(var):\n",
        "    temp = data[data[var].notnull()]\n",
        "    temp = temp[[var, 'Outcome']].groupby(['Outcome'])[[var]].median().reset_index()\n",
        "    return temp\n",
        "\n"
      ]
    },
    {
      "cell_type": "code",
      "execution_count": null,
      "metadata": {
        "colab": {
          "base_uri": "https://localhost:8080/",
          "height": 112
        },
        "id": "ulw1MuNM61DE",
        "outputId": "2755b867-c003-4e79-d83a-8b6f738053cf"
      },
      "outputs": [
        {
          "data": {
            "text/html": [
              "<div>\n",
              "<style scoped>\n",
              "    .dataframe tbody tr th:only-of-type {\n",
              "        vertical-align: middle;\n",
              "    }\n",
              "\n",
              "    .dataframe tbody tr th {\n",
              "        vertical-align: top;\n",
              "    }\n",
              "\n",
              "    .dataframe thead th {\n",
              "        text-align: right;\n",
              "    }\n",
              "</style>\n",
              "<table border=\"1\" class=\"dataframe\">\n",
              "  <thead>\n",
              "    <tr style=\"text-align: right;\">\n",
              "      <th></th>\n",
              "      <th>Outcome</th>\n",
              "      <th>Insulin</th>\n",
              "    </tr>\n",
              "  </thead>\n",
              "  <tbody>\n",
              "    <tr>\n",
              "      <th>0</th>\n",
              "      <td>0</td>\n",
              "      <td>102.5</td>\n",
              "    </tr>\n",
              "    <tr>\n",
              "      <th>1</th>\n",
              "      <td>1</td>\n",
              "      <td>169.5</td>\n",
              "    </tr>\n",
              "  </tbody>\n",
              "</table>\n",
              "</div>"
            ],
            "text/plain": [
              "   Outcome  Insulin\n",
              "0        0    102.5\n",
              "1        1    169.5"
            ]
          },
          "execution_count": 57,
          "metadata": {},
          "output_type": "execute_result"
        }
      ],
      "source": [
        "median_target('Insulin')"
      ]
    },
    {
      "cell_type": "code",
      "execution_count": null,
      "metadata": {
        "id": "DCwtsNU67Bz-"
      },
      "outputs": [],
      "source": [
        "data.loc[(data['Outcome'] == 0 ) & (data['Insulin'].isnull()), 'Insulin'] = 102.5\n",
        "data.loc[(data['Outcome'] == 1 ) & (data['Insulin'].isnull()), 'Insulin'] = 169.5"
      ]
    },
    {
      "cell_type": "code",
      "execution_count": null,
      "metadata": {
        "colab": {
          "base_uri": "https://localhost:8080/",
          "height": 112
        },
        "id": "k_h7WZPb7B2r",
        "outputId": "b423c72d-1b93-467d-d5b6-be97de69c287"
      },
      "outputs": [
        {
          "data": {
            "text/html": [
              "<div>\n",
              "<style scoped>\n",
              "    .dataframe tbody tr th:only-of-type {\n",
              "        vertical-align: middle;\n",
              "    }\n",
              "\n",
              "    .dataframe tbody tr th {\n",
              "        vertical-align: top;\n",
              "    }\n",
              "\n",
              "    .dataframe thead th {\n",
              "        text-align: right;\n",
              "    }\n",
              "</style>\n",
              "<table border=\"1\" class=\"dataframe\">\n",
              "  <thead>\n",
              "    <tr style=\"text-align: right;\">\n",
              "      <th></th>\n",
              "      <th>Outcome</th>\n",
              "      <th>Glucose</th>\n",
              "    </tr>\n",
              "  </thead>\n",
              "  <tbody>\n",
              "    <tr>\n",
              "      <th>0</th>\n",
              "      <td>0</td>\n",
              "      <td>107.0</td>\n",
              "    </tr>\n",
              "    <tr>\n",
              "      <th>1</th>\n",
              "      <td>1</td>\n",
              "      <td>140.0</td>\n",
              "    </tr>\n",
              "  </tbody>\n",
              "</table>\n",
              "</div>"
            ],
            "text/plain": [
              "   Outcome  Glucose\n",
              "0        0    107.0\n",
              "1        1    140.0"
            ]
          },
          "execution_count": 59,
          "metadata": {},
          "output_type": "execute_result"
        }
      ],
      "source": [
        "median_target('Glucose')"
      ]
    },
    {
      "cell_type": "code",
      "execution_count": null,
      "metadata": {
        "id": "XY6Pos-D7B6w"
      },
      "outputs": [],
      "source": [
        "data.loc[(data['Outcome'] == 0 ) & (data['Glucose'].isnull()), 'Glucose'] = 107\n",
        "data.loc[(data['Outcome'] == 1 ) & (data['Glucose'].isnull()), 'Glucose'] = 140"
      ]
    },
    {
      "cell_type": "code",
      "execution_count": null,
      "metadata": {
        "colab": {
          "base_uri": "https://localhost:8080/",
          "height": 112
        },
        "id": "w7tIvzyv7B_C",
        "outputId": "9915847f-7f1e-4f58-9062-90f24386e2be"
      },
      "outputs": [
        {
          "data": {
            "text/html": [
              "<div>\n",
              "<style scoped>\n",
              "    .dataframe tbody tr th:only-of-type {\n",
              "        vertical-align: middle;\n",
              "    }\n",
              "\n",
              "    .dataframe tbody tr th {\n",
              "        vertical-align: top;\n",
              "    }\n",
              "\n",
              "    .dataframe thead th {\n",
              "        text-align: right;\n",
              "    }\n",
              "</style>\n",
              "<table border=\"1\" class=\"dataframe\">\n",
              "  <thead>\n",
              "    <tr style=\"text-align: right;\">\n",
              "      <th></th>\n",
              "      <th>Outcome</th>\n",
              "      <th>SkinThickness</th>\n",
              "    </tr>\n",
              "  </thead>\n",
              "  <tbody>\n",
              "    <tr>\n",
              "      <th>0</th>\n",
              "      <td>0</td>\n",
              "      <td>27.0</td>\n",
              "    </tr>\n",
              "    <tr>\n",
              "      <th>1</th>\n",
              "      <td>1</td>\n",
              "      <td>32.0</td>\n",
              "    </tr>\n",
              "  </tbody>\n",
              "</table>\n",
              "</div>"
            ],
            "text/plain": [
              "   Outcome  SkinThickness\n",
              "0        0           27.0\n",
              "1        1           32.0"
            ]
          },
          "execution_count": 61,
          "metadata": {},
          "output_type": "execute_result"
        }
      ],
      "source": [
        "median_target('SkinThickness')"
      ]
    },
    {
      "cell_type": "code",
      "execution_count": null,
      "metadata": {
        "id": "kHsMdG7B7CBP"
      },
      "outputs": [],
      "source": [
        "data.loc[(data['Outcome'] == 0 ) & (data['SkinThickness'].isnull()), 'SkinThickness'] = 27\n",
        "data.loc[(data['Outcome'] == 1 ) & (data['SkinThickness'].isnull()), 'SkinThickness'] = 32"
      ]
    },
    {
      "cell_type": "code",
      "execution_count": null,
      "metadata": {
        "colab": {
          "base_uri": "https://localhost:8080/",
          "height": 112
        },
        "id": "sdKRAe6B7CDk",
        "outputId": "ce16e61e-5b1c-4b1c-e9fc-989e7ef95b46"
      },
      "outputs": [
        {
          "data": {
            "text/html": [
              "<div>\n",
              "<style scoped>\n",
              "    .dataframe tbody tr th:only-of-type {\n",
              "        vertical-align: middle;\n",
              "    }\n",
              "\n",
              "    .dataframe tbody tr th {\n",
              "        vertical-align: top;\n",
              "    }\n",
              "\n",
              "    .dataframe thead th {\n",
              "        text-align: right;\n",
              "    }\n",
              "</style>\n",
              "<table border=\"1\" class=\"dataframe\">\n",
              "  <thead>\n",
              "    <tr style=\"text-align: right;\">\n",
              "      <th></th>\n",
              "      <th>Outcome</th>\n",
              "      <th>BloodPressure</th>\n",
              "    </tr>\n",
              "  </thead>\n",
              "  <tbody>\n",
              "    <tr>\n",
              "      <th>0</th>\n",
              "      <td>0</td>\n",
              "      <td>70.0</td>\n",
              "    </tr>\n",
              "    <tr>\n",
              "      <th>1</th>\n",
              "      <td>1</td>\n",
              "      <td>74.5</td>\n",
              "    </tr>\n",
              "  </tbody>\n",
              "</table>\n",
              "</div>"
            ],
            "text/plain": [
              "   Outcome  BloodPressure\n",
              "0        0           70.0\n",
              "1        1           74.5"
            ]
          },
          "execution_count": 63,
          "metadata": {},
          "output_type": "execute_result"
        }
      ],
      "source": [
        "median_target('BloodPressure')"
      ]
    },
    {
      "cell_type": "code",
      "execution_count": null,
      "metadata": {
        "id": "QHuYQ4fe61Gq"
      },
      "outputs": [],
      "source": [
        "data.loc[(data['Outcome'] == 0 ) & (data['BloodPressure'].isnull()), 'BloodPressure'] = 70\n",
        "data.loc[(data['Outcome'] == 1 ) & (data['BloodPressure'].isnull()), 'BloodPressure'] = 74.5"
      ]
    },
    {
      "cell_type": "code",
      "execution_count": null,
      "metadata": {
        "colab": {
          "base_uri": "https://localhost:8080/",
          "height": 112
        },
        "id": "g1JTpMSL7nNB",
        "outputId": "4d224edf-6ef1-4ce1-c31e-0a7b4a545113"
      },
      "outputs": [
        {
          "data": {
            "text/html": [
              "<div>\n",
              "<style scoped>\n",
              "    .dataframe tbody tr th:only-of-type {\n",
              "        vertical-align: middle;\n",
              "    }\n",
              "\n",
              "    .dataframe tbody tr th {\n",
              "        vertical-align: top;\n",
              "    }\n",
              "\n",
              "    .dataframe thead th {\n",
              "        text-align: right;\n",
              "    }\n",
              "</style>\n",
              "<table border=\"1\" class=\"dataframe\">\n",
              "  <thead>\n",
              "    <tr style=\"text-align: right;\">\n",
              "      <th></th>\n",
              "      <th>Outcome</th>\n",
              "      <th>BMI</th>\n",
              "    </tr>\n",
              "  </thead>\n",
              "  <tbody>\n",
              "    <tr>\n",
              "      <th>0</th>\n",
              "      <td>0</td>\n",
              "      <td>30.1</td>\n",
              "    </tr>\n",
              "    <tr>\n",
              "      <th>1</th>\n",
              "      <td>1</td>\n",
              "      <td>34.3</td>\n",
              "    </tr>\n",
              "  </tbody>\n",
              "</table>\n",
              "</div>"
            ],
            "text/plain": [
              "   Outcome   BMI\n",
              "0        0  30.1\n",
              "1        1  34.3"
            ]
          },
          "execution_count": 65,
          "metadata": {},
          "output_type": "execute_result"
        }
      ],
      "source": [
        "median_target('BMI')"
      ]
    },
    {
      "cell_type": "code",
      "execution_count": null,
      "metadata": {
        "id": "PfR94d717nPo"
      },
      "outputs": [],
      "source": [
        "data.loc[(data['Outcome'] == 0 ) & (data['BMI'].isnull()), 'BMI'] = 30.1\n",
        "data.loc[(data['Outcome'] == 1 ) & (data['BMI'].isnull()), 'BMI'] = 34.3"
      ]
    },
    {
      "cell_type": "code",
      "execution_count": null,
      "metadata": {
        "id": "synoTnYG_PAK"
      },
      "outputs": [],
      "source": [
        "target_col = [\"Outcome\"]\n",
        "cat_cols   = data.nunique()[data.nunique() < 12].keys().tolist()\n",
        "cat_cols   = [x for x in cat_cols ]\n",
        "#numerical columns\n",
        "num_cols   = [x for x in data.columns if x not in cat_cols + target_col]\n",
        "#Binary columns with 2 values\n",
        "bin_cols   = data.nunique()[data.nunique() == 2].keys().tolist()\n",
        "\n",
        "#Columns more than 2 values\n",
        "multi_cols = [i for i in cat_cols if i not in bin_cols]\n",
        "\n",
        "#Label encoding Binary columns\n",
        "le = LabelEncoder()\n",
        "for i in bin_cols :\n",
        "    data[i] = le.fit_transform(data[i])\n",
        "\n",
        "#Duplicating columns for multi value columns\n",
        "data = pd.get_dummies(data = data,columns = multi_cols )\n",
        "\n",
        "#Scaling Numerical columns\n",
        "std = StandardScaler()\n",
        "scaled = std.fit_transform(data[num_cols])\n",
        "scaled = pd.DataFrame(scaled,columns=num_cols)\n",
        "\n",
        "#dropping original values merging scaled values for numerical columns\n",
        "df_data_og = data.copy()\n",
        "data = data.drop(columns = num_cols,axis = 1)\n",
        "data = data.merge(scaled,left_index=True,right_index=True,how = \"left\")"
      ]
    },
    {
      "cell_type": "code",
      "execution_count": null,
      "metadata": {
        "colab": {
          "base_uri": "https://localhost:8080/",
          "height": 206
        },
        "id": "qYuFNl8b_9iH",
        "outputId": "ac113156-8fb3-4d14-f362-e6ba542fb5ed"
      },
      "outputs": [
        {
          "data": {
            "text/html": [
              "<div>\n",
              "<style scoped>\n",
              "    .dataframe tbody tr th:only-of-type {\n",
              "        vertical-align: middle;\n",
              "    }\n",
              "\n",
              "    .dataframe tbody tr th {\n",
              "        vertical-align: top;\n",
              "    }\n",
              "\n",
              "    .dataframe thead th {\n",
              "        text-align: right;\n",
              "    }\n",
              "</style>\n",
              "<table border=\"1\" class=\"dataframe\">\n",
              "  <thead>\n",
              "    <tr style=\"text-align: right;\">\n",
              "      <th></th>\n",
              "      <th>Outcome</th>\n",
              "      <th>Pregnancies</th>\n",
              "      <th>Glucose</th>\n",
              "      <th>BloodPressure</th>\n",
              "      <th>SkinThickness</th>\n",
              "      <th>Insulin</th>\n",
              "      <th>BMI</th>\n",
              "      <th>DiabetesPedigreeFunction</th>\n",
              "      <th>Age</th>\n",
              "    </tr>\n",
              "  </thead>\n",
              "  <tbody>\n",
              "    <tr>\n",
              "      <th>0</th>\n",
              "      <td>1</td>\n",
              "      <td>0.639947</td>\n",
              "      <td>0.864625</td>\n",
              "      <td>-0.032180</td>\n",
              "      <td>0.665181</td>\n",
              "      <td>0.311604</td>\n",
              "      <td>0.169483</td>\n",
              "      <td>0.468492</td>\n",
              "      <td>1.425995</td>\n",
              "    </tr>\n",
              "    <tr>\n",
              "      <th>1</th>\n",
              "      <td>0</td>\n",
              "      <td>-0.844885</td>\n",
              "      <td>-1.204727</td>\n",
              "      <td>-0.528124</td>\n",
              "      <td>-0.010112</td>\n",
              "      <td>-0.440843</td>\n",
              "      <td>-0.848549</td>\n",
              "      <td>-0.365061</td>\n",
              "      <td>-0.190672</td>\n",
              "    </tr>\n",
              "    <tr>\n",
              "      <th>2</th>\n",
              "      <td>1</td>\n",
              "      <td>1.233880</td>\n",
              "      <td>2.014265</td>\n",
              "      <td>-0.693438</td>\n",
              "      <td>0.327535</td>\n",
              "      <td>0.311604</td>\n",
              "      <td>-1.328478</td>\n",
              "      <td>0.604397</td>\n",
              "      <td>-0.105584</td>\n",
              "    </tr>\n",
              "    <tr>\n",
              "      <th>3</th>\n",
              "      <td>0</td>\n",
              "      <td>-0.844885</td>\n",
              "      <td>-1.073339</td>\n",
              "      <td>-0.528124</td>\n",
              "      <td>-0.685405</td>\n",
              "      <td>-0.536303</td>\n",
              "      <td>-0.630399</td>\n",
              "      <td>-0.920763</td>\n",
              "      <td>-1.041549</td>\n",
              "    </tr>\n",
              "    <tr>\n",
              "      <th>4</th>\n",
              "      <td>1</td>\n",
              "      <td>-1.141852</td>\n",
              "      <td>0.503310</td>\n",
              "      <td>-2.677212</td>\n",
              "      <td>0.665181</td>\n",
              "      <td>0.294758</td>\n",
              "      <td>1.551096</td>\n",
              "      <td>5.484909</td>\n",
              "      <td>-0.020496</td>\n",
              "    </tr>\n",
              "  </tbody>\n",
              "</table>\n",
              "</div>"
            ],
            "text/plain": [
              "   Outcome  Pregnancies   Glucose  BloodPressure  SkinThickness   Insulin  \\\n",
              "0        1     0.639947  0.864625      -0.032180       0.665181  0.311604   \n",
              "1        0    -0.844885 -1.204727      -0.528124      -0.010112 -0.440843   \n",
              "2        1     1.233880  2.014265      -0.693438       0.327535  0.311604   \n",
              "3        0    -0.844885 -1.073339      -0.528124      -0.685405 -0.536303   \n",
              "4        1    -1.141852  0.503310      -2.677212       0.665181  0.294758   \n",
              "\n",
              "        BMI  DiabetesPedigreeFunction       Age  \n",
              "0  0.169483                  0.468492  1.425995  \n",
              "1 -0.848549                 -0.365061 -0.190672  \n",
              "2 -1.328478                  0.604397 -0.105584  \n",
              "3 -0.630399                 -0.920763 -1.041549  \n",
              "4  1.551096                  5.484909 -0.020496  "
            ]
          },
          "execution_count": 68,
          "metadata": {},
          "output_type": "execute_result"
        }
      ],
      "source": [
        "data.head()"
      ]
    },
    {
      "cell_type": "code",
      "execution_count": null,
      "metadata": {
        "id": "GHmle5WG4izJ"
      },
      "outputs": [],
      "source": [
        "X = data.iloc[:, [1,2,3,4,5,6,7,8]].values\n",
        "y = data.iloc[:, 0].values"
      ]
    },
    {
      "cell_type": "code",
      "execution_count": null,
      "metadata": {
        "id": "9otSH01-KlwS"
      },
      "outputs": [],
      "source": [
        "# Split the dataset into training and testing sets\n",
        "X_train, X_test, y_train, y_test = train_test_split(X, y, test_size=0.2, random_state=42)\n"
      ]
    },
    {
      "cell_type": "code",
      "execution_count": null,
      "metadata": {
        "id": "1yl5t8fPKlwT"
      },
      "outputs": [],
      "source": []
    },
    {
      "cell_type": "markdown",
      "metadata": {
        "id": "dYY8tf_kKlwT"
      },
      "source": [
        "# Modified Bee Algorithm"
      ]
    },
    {
      "cell_type": "code",
      "execution_count": null,
      "metadata": {
        "id": "Kdhofk93KlwU"
      },
      "outputs": [],
      "source": []
    },
    {
      "cell_type": "code",
      "execution_count": null,
      "metadata": {
        "id": "IKE8fWJNKlwU",
        "outputId": "21c61d14-e4ba-4a09-a822-35804d593226"
      },
      "outputs": [
        {
          "name": "stdout",
          "output_type": "stream",
          "text": [
            "Iteration 1: Best Ensemble: [SVC(probability=True)]\n",
            "Iteration 2: Best Ensemble: [SVC(probability=True)]\n",
            "Iteration 1: Best Ensemble: [SVC(probability=True)]\n",
            "Iteration 2: Best Ensemble: [SVC(probability=True)]\n",
            "Iteration 1: Best Ensemble: [SVC(probability=True)]\n",
            "Iteration 2: Best Ensemble: [SVC(probability=True)]\n",
            "Iteration 1: Best Ensemble: [SVC(probability=True)]\n",
            "Iteration 2: Best Ensemble: [SVC(probability=True)]\n",
            "Iteration 1: Best Ensemble: [SVC(probability=True)]\n",
            "Iteration 2: Best Ensemble: [SVC(probability=True)]\n",
            "Iteration 1: Best Ensemble: [SVC(probability=True)]\n",
            "Iteration 2: Best Ensemble: [SVC(probability=True)]\n",
            "AUC: 0.8745638200183656\n",
            "Accuracy: 0.8376623376623377\n",
            "Sensitivity: 0.8\n",
            "Specificity: 0.8585858585858586\n",
            "Precision: 0.7586206896551724\n",
            "F1 Score: 0.7787610619469026\n",
            "G-measure: 0.8282582216808769\n"
          ]
        }
      ],
      "source": [
        "import numpy as np\n",
        "from sklearn.model_selection import train_test_split\n",
        "from sklearn.svm import SVC\n",
        "from sklearn.neighbors import KNeighborsClassifier\n",
        "from sklearn.ensemble import RandomForestClassifier\n",
        "from sklearn.metrics import roc_auc_score, accuracy_score, confusion_matrix, recall_score, precision_score, f1_score\n",
        "\n",
        "def calculate_auc(y_true, y_pred):\n",
        "    return roc_auc_score(y_true, y_pred)\n",
        "\n",
        "def calculate_fitness(ensemble, X_train, y_train):\n",
        "    ensemble_predictions = get_ensemble_predictions(ensemble, X_train)\n",
        "    if len(ensemble_predictions) == 0:\n",
        "        return float('-inf')  # Return negative infinity if the ensemble predictions are empty\n",
        "    else:\n",
        "        AUC_ens = calculate_auc(y_train, ensemble_predictions)\n",
        "\n",
        "    M = len(ensemble)\n",
        "    AUC_i = [calculate_auc(y_train, get_classifier_predictions(classifier, X_train)) for classifier in ensemble]\n",
        "    AUC_mean = np.mean(AUC_i)\n",
        "\n",
        "    Q_values, P_values, DF_values = [], [], []\n",
        "\n",
        "    for i in range(M - 1):\n",
        "        for j in range(i + 1, M):\n",
        "            Q_ij, P_ij, DF_ij = calculate_pairwise_diversity(ensemble[i], ensemble[j], X_train, y_train)\n",
        "            Q_values.append(Q_ij)\n",
        "            P_values.append(P_ij)\n",
        "            DF_values.append(DF_ij)\n",
        "\n",
        "    Q_avg = np.mean(Q_values)\n",
        "    P_avg = np.mean(P_values)\n",
        "    DF_avg = np.mean(DF_values)\n",
        "\n",
        "    k = 1\n",
        "    ensemble_fitness = AUC_ens - k * (Q_avg + P_avg + DF_avg)\n",
        "\n",
        "    return ensemble_fitness\n",
        "\n",
        "\n",
        "def get_classifier_predictions(classifier, X_train):\n",
        "    return classifier.predict_proba(X_train)[:, 1]\n",
        "\n",
        "def get_ensemble_predictions(ensemble, X_train):\n",
        "    return np.mean([get_classifier_predictions(classifier, X_train) for classifier in ensemble], axis=0)\n",
        "\n",
        "def calculate_pairwise_diversity(classifier_i, classifier_j, X_train, y_train):\n",
        "    Q_ij, P_ij, DF_ij = np.random.rand(), np.random.rand(), np.random.rand()\n",
        "    return Q_ij, P_ij, DF_ij\n",
        "\n",
        "def rsb_algorithm(pool_size, M, scout_bees, X_train, y_train, classifiers):\n",
        "    if len(classifiers) < M:\n",
        "        return []\n",
        "\n",
        "    n = scout_bees\n",
        "    pool = np.arange(pool_size)\n",
        "    best_ensemble = None\n",
        "    best_fitness_pe = float('-inf')\n",
        "\n",
        "    for i in range(1, n + 1):\n",
        "        bee_i = np.random.choice(pool, size=1)\n",
        "        best_ensemble = [classifiers[bee_i[0]]]\n",
        "        fitness_pe = float('-inf')\n",
        "        best_fitness = float('-inf')\n",
        "\n",
        "        for j in range(1, M + 1):\n",
        "            previous_ensemble = best_ensemble.copy()\n",
        "            fitness_temp_k = float('-inf')\n",
        "\n",
        "            for k in range(1, M + 1):\n",
        "                Ck = np.random.choice(pool, size=1)[0]\n",
        "                if classifiers[Ck] not in best_ensemble:\n",
        "                    ensemble_temp_k = best_ensemble.copy()\n",
        "                    ensemble_temp_k.append(classifiers[Ck])\n",
        "\n",
        "                    fitness_temp_k = calculate_fitness(ensemble_temp_k, X_train, y_train)\n",
        "\n",
        "                    if fitness_temp_k > best_fitness:\n",
        "                        best_ensemble = ensemble_temp_k.copy()\n",
        "                        best_fitness = fitness_temp_k\n",
        "\n",
        "            b = np.argmax(best_fitness)\n",
        "            current_ensemble = [classifiers[pool[b]]]\n",
        "            fitness_ce = fitness_temp_k\n",
        "\n",
        "            if len(best_ensemble) < 3 or (fitness_ce > fitness_pe and len(best_ensemble) < 8 * M) or (fitness_ce + sigma > fitness_pe):\n",
        "                best_ensemble = current_ensemble.copy()\n",
        "                fitness_pe = fitness_ce\n",
        "            else:\n",
        "                best_ensemble = previous_ensemble.copy()\n",
        "                break\n",
        "\n",
        "        bee_i = best_ensemble\n",
        "\n",
        "        print(f\"Iteration {i}: Best Ensemble: {best_ensemble}\")\n",
        "\n",
        "    return ensemble_temp_k\n",
        "\n",
        "\n",
        "def lwmv_algorithm(pool_size, n_ensemble, m, e, nsp, nep, max_gen, X_train, y_train, classifiers):\n",
        "    best_ensemble = None\n",
        "    best_fitness = float('-inf')\n",
        "\n",
        "    for k in range(1, max_gen + 1):\n",
        "        for i in range(1, e + 1):\n",
        "            ensemble_i = rsb_algorithm(pool_size, n_ensemble, nsp, X_train, y_train, classifiers)\n",
        "            fitness_i = calculate_fitness(ensemble_i, X_train, y_train)\n",
        "\n",
        "            if not np.isnan(fitness_i):  # Check if fitness is not NaN\n",
        "                if fitness_i > best_fitness:\n",
        "                    best_fitness = fitness_i\n",
        "                    best_ensemble = ensemble_i\n",
        "\n",
        "    return best_ensemble\n",
        "\n",
        "# Load Pima Indians Diabetes Database (replace with your dataset)\n",
        "# Assume X_train, X_test, y_train, y_test are already defined\n",
        "# Split the data into training and testing sets\n",
        "X_train, X_test, y_train, y_test = train_test_split(X, y, test_size=0.2, random_state=42)\n",
        "\n",
        "# Placeholder for classifier objects, replace with actual classifiers\n",
        "classifier1 = SVC(probability=True)\n",
        "classifier2 = KNeighborsClassifier()\n",
        "classifier3 = RandomForestClassifier()\n",
        "\n",
        "\n",
        "\n",
        "# Create an ensemble with valid classifiers\n",
        "ensemble = [classifier1, classifier2, classifier3]\n",
        "\n",
        "# Fit each classifier to the training data\n",
        "for classifier in ensemble:\n",
        "    classifier.fit(X_train, y_train)\n",
        "\n",
        "# Example usage:\n",
        "pool_size = 3  # Number of base classifiers\n",
        "n_ensemble = 3  # Number of classifiers in each ensemble\n",
        "m = 5  # Number of ensembles\n",
        "e = 2  # Number of elite sites\n",
        "nsp = 2  # Number of bees for each selected site\n",
        "nep = 1  # Number of bees for the elite site\n",
        "max_gen = 3  # Number of searching generations\n",
        "\n",
        "# Convert to numpy arrays\n",
        "X_train_np = np.array(X_train)\n",
        "y_train_np = np.array(y_train)\n",
        "\n",
        "# Run the L-WMV algorithm\n",
        "result_ensemble = lwmv_algorithm(pool_size, n_ensemble, m, e, nsp, nep, max_gen, X_train_np, y_train_np, ensemble)\n",
        "\n",
        "# Evaluate the result ensemble\n",
        "result_predictions = get_ensemble_predictions(result_ensemble, X_test)\n",
        "result_auc = roc_auc_score(y_test, result_predictions)\n",
        "result_accuracy = accuracy_score(y_test, np.round(result_predictions))\n",
        "\n",
        "# Calculate confusion matrix\n",
        "conf_matrix = confusion_matrix(y_test, np.round(result_predictions))\n",
        "tn, fp, fn, tp = conf_matrix.ravel()\n",
        "\n",
        "# Calculate sensitivity, specificity, precision, F1 score, and G-measure\n",
        "sensitivity = recall_score(y_test, np.round(result_predictions))\n",
        "specificity = tn / (tn + fp)\n",
        "precision = precision_score(y_test, np.round(result_predictions))\n",
        "f1 = f1_score(y_test, np.round(result_predictions))\n",
        "g_measure = 2 * (sensitivity * specificity) / (sensitivity + specificity)\n",
        "\n",
        "# Print the results\n",
        "print(\"AUC:\", result_auc)\n",
        "print(\"Accuracy:\", result_accuracy)\n",
        "print(\"Sensitivity:\", sensitivity)\n",
        "print(\"Specificity:\", specificity)\n",
        "print(\"Precision:\", precision)\n",
        "print(\"F1 Score:\", f1)\n",
        "print(\"G-measure:\", g_measure)\n"
      ]
    },
    {
      "cell_type": "code",
      "execution_count": null,
      "metadata": {
        "id": "Z_hhATkTKlwV",
        "outputId": "368aaec2-f88d-4342-cf4c-e4f0a57c19cf"
      },
      "outputs": [
        {
          "name": "stdout",
          "output_type": "stream",
          "text": [
            "Defaulting to user installation because normal site-packages is not writeable\n",
            "Requirement already satisfied: pyswarm in c:\\users\\nit\\appdata\\roaming\\python\\python39\\site-packages (0.6)\n",
            "Requirement already satisfied: numpy in c:\\programdata\\anaconda3\\lib\\site-packages (from pyswarm) (1.21.5)\n"
          ]
        },
        {
          "name": "stderr",
          "output_type": "stream",
          "text": [
            "WARNING: Ignoring invalid distribution -rotobuf (c:\\users\\nit\\appdata\\roaming\\python\\python39\\site-packages)\n",
            "WARNING: Ignoring invalid distribution -rotobuf (c:\\users\\nit\\appdata\\roaming\\python\\python39\\site-packages)\n",
            "DEPRECATION: pytorch-lightning 1.5.10 has a non-standard dependency specifier torch>=1.7.*. pip 23.3 will enforce this behaviour change. A possible replacement is to upgrade to a newer version of pytorch-lightning or contact the author to suggest that they release a version with a conforming dependency specifiers. Discussion can be found at https://github.com/pypa/pip/issues/12063\n",
            "\n",
            "[notice] A new release of pip is available: 23.2.1 -> 23.3.1\n",
            "[notice] To update, run: python.exe -m pip install --upgrade pip\n"
          ]
        }
      ],
      "source": [
        "!pip install pyswarm"
      ]
    },
    {
      "cell_type": "markdown",
      "metadata": {
        "id": "gi1kTfxMKlwV"
      },
      "source": [
        "# Choi et al... SOTA model performance"
      ]
    },
    {
      "cell_type": "code",
      "execution_count": null,
      "metadata": {
        "id": "mrsOPtO2KlwV",
        "outputId": "43de4805-71fa-4187-e9ee-95a01d2ddcba"
      },
      "outputs": [
        {
          "name": "stdout",
          "output_type": "stream",
          "text": [
            "Accuracy: 0.8441558441558441\n",
            "AUC-ROC: 0.8585858585858586\n",
            "Sensitivity: 0.9090909090909091\n",
            "Specificity: 0.8080808080808081\n",
            "Precision: 0.7246376811594203\n",
            "Recall: 0.9090909090909091\n",
            "F1 Score: 0.8064516129032259\n",
            "G-measure: 0.8064516129032259\n"
          ]
        }
      ],
      "source": [
        "import numpy as np\n",
        "from sklearn.model_selection import train_test_split\n",
        "from sklearn.tree import DecisionTreeClassifier\n",
        "from sklearn.metrics import accuracy_score, roc_auc_score, confusion_matrix\n",
        "\n",
        "# Load your Pima Indian Diabetes dataset\n",
        "# Replace the following lines with your dataset loading logic\n",
        "# X, y = load_pima_indian_diabetes_dataset()\n",
        "\n",
        "# Split the dataset into training and testing sets\n",
        "X_train, X_test, y_train, y_test = train_test_split(X, y, test_size=0.2, random_state=42)\n",
        "\n",
        "def generate_base_classifier():\n",
        "    base_classifier = DecisionTreeClassifier(max_depth=1)\n",
        "    return base_classifier, 1.0  # You can adjust the weight as needed\n",
        "\n",
        "def ada_boost_ensemble(T, r):\n",
        "    N = len(X_train)\n",
        "    weights = np.ones(N) / N\n",
        "    ensemble = []\n",
        "\n",
        "    for t in range(T):\n",
        "        # Compute distribution for each training sample\n",
        "        distribution = weights / np.sum(weights)\n",
        "\n",
        "        # Resample subset\n",
        "        resampled_indices = np.random.choice(N, size=int(r * N), p=distribution, replace=False)\n",
        "        resampled_subset = (X_train[resampled_indices], y_train[resampled_indices])\n",
        "\n",
        "        # Build base classifier\n",
        "        base_classifier = generate_base_classifier()\n",
        "        base_classifier.fit(*resampled_subset)\n",
        "\n",
        "        # Calculate weighted classification error\n",
        "        y_pred = base_classifier.predict(X_train)\n",
        "        error = np.sum(weights * (y_pred != y_train))\n",
        "\n",
        "        # Construct candidate base classifiers\n",
        "        ensemble.append((base_classifier, 1 / 2 * np.log((1 - error) / error)))\n",
        "\n",
        "        # Update weights\n",
        "        weights *= np.exp(-ensemble[-1][1] * y_train * y_pred)\n",
        "        weights /= np.sum(weights)\n",
        "\n",
        "    return ensemble\n",
        "\n",
        "def ensemble_fusion(ensemble, X):\n",
        "    weighted_predictions = sum(alpha * fit_predict(clf, X) for clf, alpha in ensemble)\n",
        "    return np.sign(weighted_predictions)\n",
        "\n",
        "def fit_predict(clf, X):\n",
        "    # Fit the classifier if it's not fitted and then predict\n",
        "    if not hasattr(clf, 'fitted_') or not clf.fitted_:\n",
        "        clf.fit(X_train, y_train)\n",
        "        clf.fitted_ = True\n",
        "    return clf.predict(X)\n",
        "\n",
        "\n",
        "# Ensemble Selection\n",
        "def calculate_distribution(weights, y_true, y_pred):\n",
        "    return weights * np.exp(-y_true * y_pred) / np.sum(weights)\n",
        "\n",
        "def calculate_ensemble_selection_criterion(ensemble, X_valid, y_valid, lambda_value):\n",
        "    y_ensemble = np.sum(alpha * clf.predict(X_valid) for clf, alpha in ensemble)\n",
        "    A_mean = np.mean([roc_auc_score(y_valid, clf.predict(X_valid)) for clf, _ in ensemble])\n",
        "    A_ensemble = roc_auc_score(y_valid, ensemble_fusion(ensemble, X_valid))\n",
        "    Acc = A_ensemble + (A_ensemble - A_mean)\n",
        "    Div = calculate_diversity(ensemble)\n",
        "    normalized_Acc = (Acc - np.min(Acc)) / (np.max(Acc) - np.min(Acc))\n",
        "    normalized_Div = (Div - np.min(Div)) / (np.max(Div) - np.min(Div))\n",
        "    return normalized_Acc - lambda_value * normalized_Div\n",
        "\n",
        "def calculate_diversity(ensemble):\n",
        "    Q_avg = np.mean([calculate_Q_statistic(hi, hk) for i, (hi, _) in enumerate(ensemble) for j, (hk, _) in enumerate(ensemble) if i < j])\n",
        "    rho_avg = np.mean([calculate_correlation_coefficient(hi, hk) for i, (hi, _) in enumerate(ensemble) for j, (hk, _) in enumerate(ensemble) if i < j])\n",
        "    DF_avg = np.mean([calculate_double_fault_measure(hi, hk) for i, (hi, _) in enumerate(ensemble) for j, (hk, _) in enumerate(ensemble) if i < j])\n",
        "    return Q_avg + rho_avg + DF_avg\n",
        "\n",
        "def calculate_Q_statistic(hi, hk):\n",
        "    # Replace with your implementation of Q statistic calculation\n",
        "    # For example:\n",
        "    return 2 * (hi * hk) / (hi + hk)\n",
        "\n",
        "def calculate_correlation_coefficient(hi, hk):\n",
        "    # Replace with your implementation of correlation coefficient calculation\n",
        "    # For example:\n",
        "    return np.corrcoef(hi, hk)[0, 1]\n",
        "\n",
        "def calculate_double_fault_measure(hi, hk):\n",
        "    # Replace with your implementation of double-fault measure calculation\n",
        "    # For example:\n",
        "    return np.sum((hi == 0) & (hk == 0)) / len(hi)\n",
        "\n",
        "def calculate_g_measure(precision, recall):\n",
        "    # Calculate the harmonic mean of precision and recall\n",
        "    return 2 * (precision * recall) / (precision + recall)\n",
        "\n",
        "def ensemble_selection(ensemble, X_valid, y_valid, lambda_value):\n",
        "    selected_ensemble = ensemble.copy()\n",
        "\n",
        "    for t in range(len(ensemble)):\n",
        "        # Construct candidate ensembles\n",
        "        candidate_ensembles = [selected_ensemble + [h] for h in ensemble if h not in selected_ensemble]\n",
        "\n",
        "        # Check if there are candidate ensembles\n",
        "        if not candidate_ensembles:\n",
        "            break\n",
        "\n",
        "        # Calculate ensemble selection criterion for each candidate ensemble\n",
        "        criteria = [calculate_ensemble_selection_criterion(G, X_valid, y_valid, lambda_value) for G in candidate_ensembles]\n",
        "\n",
        "        # Find the best ensemble\n",
        "        best_index = np.argmax(criteria)\n",
        "\n",
        "        # Update the selected ensemble if the criterion improves\n",
        "        if criteria[best_index] > calculate_ensemble_selection_criterion(selected_ensemble, X_valid, y_valid, lambda_value):\n",
        "            selected_ensemble = candidate_ensembles[best_index]\n",
        "\n",
        "    return selected_ensemble\n",
        "\n",
        "# Example usage:\n",
        "T = 10  # Number of base classifiers in the ensemble\n",
        "r = 0.5  # Resampling parameter\n",
        "M = 5   # Number of ensemble selection rounds\n",
        "lambda_value = 0.25  # Adjust as needed\n",
        "\n",
        "# Initialization\n",
        "selected_ensemble = []\n",
        "ada_boost_ensemble = []\n",
        "\n",
        "# Repeat for t = 0, ..., M-1\n",
        "for t in range(M):\n",
        "    # AdaBoost ensemble generation\n",
        "    base_classifier, weight = generate_base_classifier()\n",
        "    ada_boost_ensemble.append((base_classifier, weight))\n",
        "\n",
        "    # Ensemble selection\n",
        "    selected_ensemble = ensemble_selection(ada_boost_ensemble, X_test, y_test, lambda_value)\n",
        "\n",
        "# Now, you can use the selected ensemble for prediction\n",
        "y_pred = ensemble_fusion(selected_ensemble, X_test)\n",
        "\n",
        "# Calculate evaluation metrics\n",
        "accuracy = accuracy_score(y_test, (y_pred > 0.5).astype(int))\n",
        "auc_roc = roc_auc_score(y_test, y_pred)\n",
        "conf_matrix = confusion_matrix(y_test, (y_pred > 0.5).astype(int))\n",
        "tn, fp, fn, tp = conf_matrix.ravel()\n",
        "sensitivity = tp / (tp + fn)\n",
        "specificity = tn / (tn + fp)\n",
        "precision = tp / (tp + fp)\n",
        "recall = tp / (tp + fn)\n",
        "f1 = 2 * (precision * sensitivity) / (precision + sensitivity)\n",
        "g_measure = calculate_g_measure(precision, recall)\n",
        "\n",
        "# Print or use the evaluation metrics as needed\n",
        "print(\"Accuracy:\", accuracy)\n",
        "print(\"AUC-ROC:\", auc_roc)\n",
        "print(\"Sensitivity:\", sensitivity)\n",
        "print(\"Specificity:\", specificity)\n",
        "print(\"Precision:\", precision)\n",
        "print(\"Recall:\", recall)\n",
        "print(\"F1 Score:\", f1)\n",
        "print(\"G-measure:\", g_measure)\n"
      ]
    },
    {
      "cell_type": "code",
      "execution_count": null,
      "metadata": {
        "id": "Dkt9yZ1OKlwW"
      },
      "outputs": [],
      "source": []
    },
    {
      "cell_type": "code",
      "execution_count": null,
      "metadata": {
        "id": "PdF5D8MGuLGL"
      },
      "outputs": [],
      "source": []
    }
  ],
  "metadata": {
    "accelerator": "GPU",
    "colab": {
      "provenance": []
    },
    "gpuClass": "standard",
    "kernelspec": {
      "display_name": "Python 3 (ipykernel)",
      "language": "python",
      "name": "python3"
    },
    "language_info": {
      "codemirror_mode": {
        "name": "ipython",
        "version": 3
      },
      "file_extension": ".py",
      "mimetype": "text/x-python",
      "name": "python",
      "nbconvert_exporter": "python",
      "pygments_lexer": "ipython3",
      "version": "3.9.13"
    }
  },
  "nbformat": 4,
  "nbformat_minor": 0
}